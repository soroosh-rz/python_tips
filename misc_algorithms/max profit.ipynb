{
 "cells": [
  {
   "cell_type": "markdown",
   "metadata": {},
   "source": [
    "#### You are given an array of historical stock prices per day, for example [6, 13, 2, 10, 3, 5]. Write an algorithm that figures out what days (index of array) you could buy and sell the stock for maximum profit. \n",
    "#### you are only allowed to but the stock once and sell it once. Also no shorting the stock, you have to buy before selling. You should be able to solve this problem by only going through the array once.\n",
    "#### Given [6, 13, 2, 10, 3, 5] you make the most profit by buying on day 3 (\\\\$2) and selling on day 4 (price of \\\\$10), netting you an \\\\$8 gain."
   ]
  },
  {
   "cell_type": "code",
   "execution_count": 14,
   "metadata": {},
   "outputs": [],
   "source": [
    "# find Maximum difference between two elements such that larger element appears after \n",
    "# the smaller number \n",
    " \n",
    "# The function returns a negative value if the array is sorted in decreasing order. \n",
    "# Returns 0 if elements are equal\n",
    "\n",
    "def max_profit(arr):\n",
    "    arr_size = len(arr)\n",
    "    \n",
    "    min_element = arr[0]\n",
    "    max_diff = arr[1] - arr[0]\n",
    "    potential_buy_date = 0\n",
    "    buy_date = potential_buy_date\n",
    "    sell_date = 1\n",
    "    \n",
    "    for i in range(1, arr_size): \n",
    "        if (arr[i] - min_element > max_diff): \n",
    "            max_diff = arr[i] - min_element\n",
    "            sell_date = i\n",
    "            buy_date = potential_buy_date\n",
    "      \n",
    "        if (arr[i] < min_element): \n",
    "            min_element = arr[i]\n",
    "            potential_buy_date = i\n",
    "            \n",
    "    return max_diff, buy_date, sell_date "
   ]
  },
  {
   "cell_type": "code",
   "execution_count": 15,
   "metadata": {},
   "outputs": [
    {
     "data": {
      "text/plain": [
       "(99, 0, 4)"
      ]
     },
     "execution_count": 15,
     "metadata": {},
     "output_type": "execute_result"
    }
   ],
   "source": [
    "max_profit([1, 2, 6, 80, 100]) "
   ]
  },
  {
   "cell_type": "code",
   "execution_count": 16,
   "metadata": {},
   "outputs": [
    {
     "data": {
      "text/plain": [
       "(8, 2, 3)"
      ]
     },
     "execution_count": 16,
     "metadata": {},
     "output_type": "execute_result"
    }
   ],
   "source": [
    "max_profit([6, 13, 2, 10, 3, 5])"
   ]
  },
  {
   "cell_type": "code",
   "execution_count": 17,
   "metadata": {},
   "outputs": [
    {
     "data": {
      "text/plain": [
       "(7, 0, 1)"
      ]
     },
     "execution_count": 17,
     "metadata": {},
     "output_type": "execute_result"
    }
   ],
   "source": [
    "max_profit([6, 13, 2])"
   ]
  }
 ],
 "metadata": {
  "kernelspec": {
   "display_name": "Python 3",
   "language": "python",
   "name": "python3"
  },
  "language_info": {
   "codemirror_mode": {
    "name": "ipython",
    "version": 3
   },
   "file_extension": ".py",
   "mimetype": "text/x-python",
   "name": "python",
   "nbconvert_exporter": "python",
   "pygments_lexer": "ipython3",
   "version": "3.7.1rc2"
  }
 },
 "nbformat": 4,
 "nbformat_minor": 2
}
