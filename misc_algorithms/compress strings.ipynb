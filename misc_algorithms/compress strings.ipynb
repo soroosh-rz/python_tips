{
 "cells": [
  {
   "cell_type": "markdown",
   "metadata": {},
   "source": [
    "#### Given a string in the form \"AAAABBBBCCCCCDDEEEE\" compress it to become \"A4B4C5D2E4\". \n",
    "#### For this problem you can falsely compress strings of single or double letters. For instance, it is okey for \"AAB\" to return \"A2B1\" even though this technically takes more space.\n",
    "#### This function should also be case sensitive, so that a string \"AAAaa\" returns \"A3a2\""
   ]
  },
  {
   "cell_type": "code",
   "execution_count": 7,
   "metadata": {},
   "outputs": [],
   "source": [
    "def compress(s):\n",
    "    output = \"\"\n",
    "    length = len(s)\n",
    "    \n",
    "    if length == 0:\n",
    "        return \"\"\n",
    "    \n",
    "    if length == 1:\n",
    "        return s + str(1)\n",
    "    \n",
    "    cnt = 1\n",
    "    i = 1  # current index\n",
    "    \n",
    "    while i < length:\n",
    "        \n",
    "        if s[i] ==  s[i-1]:\n",
    "            cnt += 1\n",
    "        else:\n",
    "            output = output + s[i-1] + str(cnt)\n",
    "            cnt = 1\n",
    "            \n",
    "        i += 1\n",
    "        \n",
    "    output = output + s[i-1] + str(cnt)\n",
    "    \n",
    "    return output"
   ]
  },
  {
   "cell_type": "code",
   "execution_count": 8,
   "metadata": {},
   "outputs": [
    {
     "data": {
      "text/plain": [
       "'A2B4'"
      ]
     },
     "execution_count": 8,
     "metadata": {},
     "output_type": "execute_result"
    }
   ],
   "source": [
    "compress(\"AABBBB\")"
   ]
  },
  {
   "cell_type": "code",
   "execution_count": 9,
   "metadata": {},
   "outputs": [
    {
     "data": {
      "text/plain": [
       "'a3B1'"
      ]
     },
     "execution_count": 9,
     "metadata": {},
     "output_type": "execute_result"
    }
   ],
   "source": [
    "compress(\"aaaB\")"
   ]
  }
 ],
 "metadata": {
  "kernelspec": {
   "display_name": "Python 3",
   "language": "python",
   "name": "python3"
  },
  "language_info": {
   "codemirror_mode": {
    "name": "ipython",
    "version": 3
   },
   "file_extension": ".py",
   "mimetype": "text/x-python",
   "name": "python",
   "nbconvert_exporter": "python",
   "pygments_lexer": "ipython3",
   "version": "3.7.1rc2"
  }
 },
 "nbformat": 4,
 "nbformat_minor": 2
}
