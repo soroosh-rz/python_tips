{
 "cells": [
  {
   "cell_type": "markdown",
   "metadata": {},
   "source": [
    "### For the years 1901 to 2000, count the total number of Sundays that fell on the first of a month.   \n"
   ]
  },
  {
   "cell_type": "code",
   "execution_count": 1,
   "metadata": {},
   "outputs": [],
   "source": [
    "import datetime\n",
    "from collections import Counter"
   ]
  },
  {
   "cell_type": "code",
   "execution_count": 5,
   "metadata": {},
   "outputs": [],
   "source": [
    "cnt = 0\n",
    "cnt_ = Counter()\n",
    "\n",
    "for y in range(1901,2001):\n",
    "    for m in range(1,13):\n",
    "        mydate = datetime.date(y,m,1)\n",
    "\n",
    "        if mydate.weekday() == 6:\n",
    "            cnt += 1\n",
    "\n",
    "        cnt_[mydate.weekday()] += 1"
   ]
  },
  {
   "cell_type": "code",
   "execution_count": 7,
   "metadata": {},
   "outputs": [
    {
     "name": "stdout",
     "output_type": "stream",
     "text": [
      "171\n",
      "Counter({4: 173, 2: 173, 0: 172, 1: 171, 5: 171, 6: 171, 3: 169})\n"
     ]
    }
   ],
   "source": [
    "print(cnt)\n",
    "print(cnt_)"
   ]
  }
 ],
 "metadata": {
  "kernelspec": {
   "display_name": "Python 3",
   "language": "python",
   "name": "python3"
  },
  "language_info": {
   "codemirror_mode": {
    "name": "ipython",
    "version": 3
   },
   "file_extension": ".py",
   "mimetype": "text/x-python",
   "name": "python",
   "nbconvert_exporter": "python",
   "pygments_lexer": "ipython3",
   "version": "3.7.1rc2"
  }
 },
 "nbformat": 4,
 "nbformat_minor": 2
}
